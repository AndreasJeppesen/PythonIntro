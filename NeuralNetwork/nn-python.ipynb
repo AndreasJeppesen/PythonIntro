{
 "cells": [
  {
   "cell_type": "markdown",
   "metadata": {},
   "source": [
    "# Intro to Neural Networks in Python"
   ]
  },
  {
   "cell_type": "markdown",
   "metadata": {},
   "source": [
    "The goal in this session is to train a neural network classifier on the MNIST image data (which is the usual \"hello world\" machine learning example). The MNIST data consist of handwritten digits (manually classified) and we want to train the neural network to automatically label these digits for us. In this project we will not be using fancy (i.e. normal) libraries like NumPy so we have to make the functions for everything (e.g. linear algebra) ourselves. Because 3 hours is not quite sufficient to get us all the way we have picked out key functions for you to make and besides this we will be relying on functions that we have created. "
   ]
  },
  {
   "cell_type": "markdown",
   "metadata": {},
   "source": [
    "What we have done for you: \n",
    "\n",
    "1. Download data from MNIST and made functions to read it (from a weird format). This is already done and is in (t10k-images.idx3-ubyte.gz, t10k-labels.idx1-ubyte.gz, train-images.idx3-ubyte.gx, train-labels.idx1-ubyte). As you can perhaps tell from the file names the data is already split into test and training data-sets and into image data (pixels) and labels (classified). \n",
    "2. Besides this you will be using functions that we made which are in the \"math_helper.py\", \"network_helper.py\" and \"plots_helper.py\" files. \n",
    "\n",
    "We can import python functions from other documents like this:\n"
   ]
  },
  {
   "cell_type": "code",
   "execution_count": null,
   "metadata": {},
   "outputs": [],
   "source": [
    "from read_write_helper import *"
   ]
  },
  {
   "cell_type": "markdown",
   "metadata": {},
   "source": [
    "You can go into the python document yourself to see which files are there. <br/>\n",
    "If you ever forget the functionality of a function you can call help to get the docstring."
   ]
  },
  {
   "cell_type": "code",
   "execution_count": null,
   "metadata": {},
   "outputs": [],
   "source": [
    "help(read_image)"
   ]
  },
  {
   "cell_type": "markdown",
   "metadata": {},
   "source": [
    "# Creating Math Functions\n",
    "\n",
    "1. Addition of Matrices\n",
    "2. Matrix Multiplication\n",
    "\n",
    "Both of these are necessary for us to predict data (as we will see). <br/>\n",
    "Try to do calculations by hand first to understand the algorithms you are implementing. <br/>\n",
    "In the docstrings under \"examples\" you can see examples of input-output pairs. <br/>\n",
    "You can use these to test your functions. "
   ]
  },
  {
   "cell_type": "markdown",
   "metadata": {},
   "source": [
    "### Task 1: Addition <br/>\n",
    "First we create a function which can add two matrices (or vectors) together. <br/>\n",
    "Recall what has to be the case in order for addition of \n",
    "matrices (or vectors) to be possile. <br/> \n",
    "You will probably want to be using indexes and use for-loops for this."
   ]
  },
  {
   "cell_type": "code",
   "execution_count": null,
   "metadata": {},
   "outputs": [],
   "source": [
    "def my_addition(S, O): \n",
    "    '''\n",
    "    Description:\n",
    "\n",
    "    Adds a matrix to another matrix. \n",
    "    In terms of linear algebra, this corresponds\n",
    "    to the operation S + O, where both S and O are matrices.\n",
    "\n",
    "    Assumes that both matrices have: \n",
    "    (1) the same number of rows and columns \n",
    "    (2) 2 dimensions when understood as lists\n",
    "\n",
    "    Returns a new list of lists, corresponding to the result\n",
    "    of the addition of the two matrices.\n",
    "    ________\n",
    "\n",
    "    Arguments:\n",
    "\n",
    "    S = list of lists with 2 dimensions\n",
    "    O = list of lists with 2 dimensions\n",
    "    ________\n",
    "\n",
    "    Examples:\n",
    "\n",
    "    >>> my_addition([[1, 2, 3], [3, 4, 5], [5, 6, 7]], [[1, 2, 3], [4, 5, 6], [7, 8, 9]])\n",
    "    [[2, 4, 6], [7, 9, 11], [12, 14, 16]]\n",
    "\n",
    "    '''\n",
    "    \n",
    "    #your code goes here"
   ]
  },
  {
   "cell_type": "markdown",
   "metadata": {},
   "source": [
    "Test your function below: "
   ]
  },
  {
   "cell_type": "code",
   "execution_count": null,
   "metadata": {},
   "outputs": [],
   "source": [
    "## example input to your function to test on. \n",
    "## the addition of these should return: [[2, 4, 6], [7, 9, 11], [12, 14, 16]]\n",
    "## as can be seen from the docstring under \"examples\": \n",
    "S = [[1, 2, 3], [3, 4, 5], [5, 6, 7]]\n",
    "O = [[1, 2, 3], [4, 5, 6], [7, 8, 9]]\n",
    "\n",
    "## test your function here:"
   ]
  },
  {
   "cell_type": "markdown",
   "metadata": {},
   "source": [
    "### Task 2: Matrix Multiplication\n",
    "Now we want to create a function for matrix multiplication. <br/>\n",
    "Again, recall the format (dimensions) required and the algorithm for \n",
    "computing matrix multiplication (what we did by hand in \n",
    "the first session). <br/>\n",
    "You will most likely want to be indexing and use for-loops "
   ]
  },
  {
   "cell_type": "code",
   "execution_count": null,
   "metadata": {},
   "outputs": [],
   "source": [
    "def my_multiply(S, O):\n",
    "    '''\n",
    "    Description:\n",
    "\n",
    "    Multiplies a matrix with another matrix. \n",
    "    In terms of linear algebra, this corresponds to\n",
    "    the matrix product of S * O, where S and O are both matrices.\n",
    "    \n",
    "    Assumes that S and O are lists of lists with 2 dimensions, \n",
    "    and that the number of columns in S is the same as \n",
    "    the number of rows in O.\n",
    "    \n",
    "    Returns a list of lists, corresponding to matrix product of \n",
    "    S * O. \n",
    "\n",
    "    ________\n",
    "\n",
    "    Arguments:\n",
    "\n",
    "    S = list of lists with 2 dimensions\n",
    "    O = list of lists with 2 dimensions\n",
    "    ________\n",
    "\n",
    "    Examples:\n",
    "\n",
    "    >>> my_multiply([[1, 2, 3], [4, 5, 6]], [[2, 3], [4, 5], [6, 7]])\n",
    "    [[28, 34], [64, 79]]\n",
    "\n",
    "    >>> my_multiply([[2, 3], [4, 5], [6, 7]], [[1, 2, 3], [4, 5, 6]])\n",
    "    [[14, 19, 24], [24, 33, 42], [34, 47, 60]]\n",
    "\n",
    "    '''\n",
    "    \n",
    "    # your code goes here"
   ]
  },
  {
   "cell_type": "code",
   "execution_count": null,
   "metadata": {},
   "outputs": [],
   "source": [
    "## test your code here"
   ]
  },
  {
   "cell_type": "markdown",
   "metadata": {},
   "source": [
    "### Task 3: Predicting \n",
    "\n",
    "Now we will use the functions from before (*addition* and *matrix multiplication*). <br/>\n",
    "First you will try to make the function work on dummy data, then you will\n",
    "test it out on real data. <br/>\n",
    "The format is a bit funky here. <br/>\n",
    "\n",
    "A neural network consists of weights and biases as we have seen. <br/> \n",
    "*network* will be in the format: [[[2,3],[2,2],[1,2],[1,2]],[2,3]] (but larger), where: <br/> \n",
    "* A (weights) = [[2,3],[2,2],[1,2],[1,2]] <br/>\n",
    "* b (biases) = [2,3]. <br/>\n",
    "This can be unpacked from the whole network like this: <br/>\n",
    "* A, b = [[[2,3],[2,2],[1,2],[1,2]],[2,3]] <br/>\n",
    "\n",
    "The image vector to predict will be in the format: [1,2,4,0] (but again, correspondingly larger) <br/>\n",
    "I.e. it will already be in what we have called the \"vector\" format.\n",
    "\n",
    "The way we predict a case (an image) from our network is as follows: \n",
    "1. multiply the image vector with A (weights). Use your function from earlier, or the function \"multiply\" from math_helper.\n",
    "2. add b (bias) to the product from point 1 (above). Use your function from earlier, or the function \"add\" from math_helper. \n",
    "3. unlist and return. \n",
    "\n"
   ]
  },
  {
   "cell_type": "code",
   "execution_count": null,
   "metadata": {},
   "outputs": [],
   "source": [
    "def my_predict(network, image):\n",
    "    '''\n",
    "    Description:\n",
    "    Multiplies an image vector with the weights of a given \n",
    "    network, and adds this product with the bias of the network.\n",
    "    This corresponds to the networks prediction of what \n",
    "    the image is.\n",
    "\n",
    "    Assumes that network is a nested list, consisting\n",
    "    of two lists of list. The first containing the weights of \n",
    "    the network, and the second containing the bias of \n",
    "    the network.\n",
    "\n",
    "    Returns a list of length equal to b (bias vector).\n",
    "\n",
    "    ________\n",
    "\n",
    "    Arguments:\n",
    "    image = image vector (list) of one dimension.\n",
    "    network = list of lists two sublists. The first being \n",
    "    a list of lists containing the weights of the network. The \n",
    "    containing the bias of the network. \n",
    "\n",
    "    ________\n",
    "\n",
    "    Examples:\n",
    "    >>> my_predict([[[2,3],[2,2],[1,2],[1,2]],[2,3]], [1,2,4,0])\n",
    "    [12, 18]\n",
    "\n",
    "    '''\n",
    "    \n",
    "    A, b = network \n",
    "    image = [image] # A quirk of the format. \n",
    "    b = [b] # A quirk of the format. \n",
    "    \n",
    "    # your code goes here"
   ]
  },
  {
   "cell_type": "code",
   "execution_count": null,
   "metadata": {},
   "outputs": [],
   "source": [
    "## test your function here."
   ]
  },
  {
   "cell_type": "markdown",
   "metadata": {},
   "source": [
    "### Task 3: Predicting (real data)"
   ]
  },
  {
   "cell_type": "markdown",
   "metadata": {},
   "source": [
    "1. first we load images (train-images). <br/>\n",
    "2. then we load a pre-trained neural network (mnist_linear.weights). "
   ]
  },
  {
   "cell_type": "code",
   "execution_count": null,
   "metadata": {},
   "outputs": [],
   "source": [
    "images = read_image(\"train-images.idx3-ubyte\") #load 60K training images. \n",
    "network = linear_load(\"mnist_linear.weights\") #load a pre-trained network.\n",
    "A, b = network #extract weights and biases."
   ]
  },
  {
   "cell_type": "markdown",
   "metadata": {},
   "source": [
    "3. Now we import functionality from math_helper (ignore the output): "
   ]
  },
  {
   "cell_type": "code",
   "execution_count": null,
   "metadata": {},
   "outputs": [],
   "source": [
    "from math_helper import * "
   ]
  },
  {
   "cell_type": "markdown",
   "metadata": {},
   "source": [
    "4. Now we can check the dimensions of the data that we are working with. <br/>\n",
    "5. under \"test your function\" you can test your function."
   ]
  },
  {
   "cell_type": "code",
   "execution_count": null,
   "metadata": {},
   "outputs": [],
   "source": [
    "## check the data we just read: \n",
    "print(dim(images)) # 60k images in the format 28x28. \n",
    "print(dim(A)) # 784 rows, 10 columns (one weight vector for each digit).\n",
    "print(dim(b)) # 10 columns (one bias for each digit).\n",
    "\n",
    "## select one image: \n",
    "image = images[0] # selecting the first image. \n",
    "image = image_to_vector(image) # converts the format from 28x28 to 1x784\n",
    "print(dim(image)) # in the preferred \"vector\" format. \n",
    "\n",
    "## test your function \"my_predict\".\n",
    "your_function(network, image)\n"
   ]
  },
  {
   "cell_type": "markdown",
   "metadata": {},
   "source": [
    "\n",
    "### Task 4: Mean squared error (loss function)\n",
    "\n",
    "Mean squared error is a measure of the distance between our predictions and \n",
    "the ground truth. This is what we will want to minimize (it will act as our\n",
    "loss function). This will be necessary for updating the neural network \n",
    "via. gradient descent as discussed. <br/>\n",
    "Again, compute MSE manually (for instance on the two vector given in the docstring) <br/>\n",
    "This will likely help you write the function. <br/>\n",
    "Bonus: can you do it in one line with a list comprehension? \n"
   ]
  },
  {
   "cell_type": "code",
   "execution_count": null,
   "metadata": {},
   "outputs": [],
   "source": [
    "def my_mean_squared_error(U, V):\n",
    "    '''\n",
    "    Description:\n",
    "\n",
    "    Calculates the mean square error between two lists.\n",
    "    Raises a TypeError if either input is not a list, or\n",
    "    if the two lists do not have the same length. \n",
    "    \n",
    "    Assumes that U and V are both lists of one dimension.\n",
    "    \n",
    "    Returns a single number, which is the average of the \n",
    "    squared sum of the element-wise difference between the \n",
    "    two lists. \n",
    "\n",
    "    ________\n",
    "\n",
    "    Arguments:\n",
    "    \n",
    "    U = list of 1 dimension\n",
    "    V = list of 1 dimension\n",
    "    ________\n",
    "\n",
    "    Examples:\n",
    "\n",
    "    >>> my_mean_squared_error([1,2,3,4], [3,1,3,2])\n",
    "    2.25\n",
    "\n",
    "    '''\n",
    "    \n",
    "    # your code goes here"
   ]
  },
  {
   "cell_type": "code",
   "execution_count": null,
   "metadata": {},
   "outputs": [],
   "source": [
    "## test your code here"
   ]
  },
  {
   "cell_type": "markdown",
   "metadata": {},
   "source": [
    "### Task 5: Evaluating\n",
    "\n",
    "We will want to evaluate how good our network is at classifying digits. <br/>\n",
    "We will want to return three things here: <br/> \n",
    "\n",
    "1. *predictions:* The argmax of every prediction vector. This is the digit with the highest value in the prediction vector. This should be stored in a list. <br/>\n",
    "2. *cost:* the average cost of each prediction. This will be the MSE for each prediction divided by the total number of predictions. <br/>\n",
    "3. *accuracy:* the percentage of correct classifications. Will be a number in the range [0, 100] indicating anywhere between 0-100% accuracy in classification. \n",
    "\n",
    "You will want to use your functions \"my_predict\" and \"my_mean_squared_error\" from earlier, <br/>\n",
    "or \"predict\" and \"mean_square_error\" from \"math_helper.py\". <br/>\n"
   ]
  },
  {
   "cell_type": "code",
   "execution_count": null,
   "metadata": {},
   "outputs": [],
   "source": [
    "def my_evaluate(network, images, labels):\n",
    "    '''\n",
    "    Description:\n",
    "\n",
    "    Evaluates the predictions made by a network on a list\n",
    "    of images and their corresponding labels. \n",
    "    This evaluation is made on the basis of using \n",
    "    mean square error as a cost function. \n",
    "    The function calculates the mean cost as well as the \n",
    "    mean accuracy. Mean accuracy is given in percent.\n",
    "\n",
    "    Assumes that the images and labels correspond i.e.\n",
    "    image[i] has label labels[i]. \n",
    "\n",
    "    Returns a tuple (predictions, cost, accuracy), where \n",
    "    predictions is a list of all the predictions made,\n",
    "    cost is a float representing the mean cost of predictions\n",
    "    and accuracy is the percentage of correct predictions.\n",
    "\n",
    "    ________\n",
    "\n",
    "    Arguments: \n",
    "    image = list of images (60k)\n",
    "    network = list of lists two sublists. The first being \n",
    "    a list of lists containing the weights of the network. The \n",
    "    containing the bias of the network. \n",
    "    labels = list of labels\n",
    "\n",
    "    '''\n",
    "    \n",
    "    predictions = []\n",
    "    cost = 0\n",
    "    accuracy = 0\n",
    "    \n",
    "    for i in range(len(images)):\n",
    "        current_image = image_to_vector(images[i]) ## image_to_vector from \"math_helper.py\" to change format.\n",
    "        ## your code goes here..."
   ]
  },
  {
   "cell_type": "markdown",
   "metadata": {},
   "source": [
    "Read stuff & test your function below: "
   ]
  },
  {
   "cell_type": "code",
   "execution_count": null,
   "metadata": {},
   "outputs": [],
   "source": [
    "images = read_image(\"train-images.idx3-ubyte\")\n",
    "labels = read_labels(\"train-labels.idx1-ubyte\")\n",
    "network = linear_load(\"mnist_linear.weights\")\n",
    "\n",
    "## Test your function (on the first 100 images in the training data-set)\n",
    "your_function(network, images[0:100], labels[0:100]);"
   ]
  },
  {
   "cell_type": "markdown",
   "metadata": {},
   "source": [
    "## Training the Neural Network\n",
    "\n"
   ]
  },
  {
   "cell_type": "markdown",
   "metadata": {},
   "source": [
    "This we will most likely do together on the board. <br/>\n",
    "First we will import functions from \"network_helper.py\"."
   ]
  },
  {
   "cell_type": "code",
   "execution_count": null,
   "metadata": {},
   "outputs": [],
   "source": [
    "from network_helper import *"
   ]
  },
  {
   "cell_type": "code",
   "execution_count": null,
   "metadata": {},
   "outputs": [],
   "source": [
    "def fast_learn(images, labels, epochs, batch_size):\n",
    "    '''\n",
    "    Description:\n",
    "\n",
    "    Initializes a network consisting of random weights and\n",
    "    biases. The network is then trained using the \"update\"\n",
    "    function over a batch of images and labels.\n",
    "    For each epoch, the images are partioned\n",
    "    into smaller batches of images and labels.\n",
    "    The network is succesively updated for each batch.\n",
    "\n",
    "    Furthermore, the function prints what\n",
    "    epoch and batch number it is currently training on.\n",
    "    This is followed by another print, which is the\n",
    "    accuracy of the updated network and the accuracy\n",
    "    of the previous network.\n",
    "\n",
    "    Returns the best performing network in terms of accuracy\n",
    "    ________\n",
    "\n",
    "    Arguments:\n",
    "\n",
    "    images = list of images\n",
    "    labels = list of labels\n",
    "    epochs = integer\n",
    "    batch_size = integer\n",
    "    ________\n",
    "    '''\n",
    "    \n",
    "    #initializing the random network:\n",
    "    b = [random.uniform(0, 1) for m in range(10)]\n",
    "    A = [[random.uniform(0, 1/784) for n in range(10)] for n in range(784)]\n",
    "    network = [A, b]\n",
    "    prev_acc = 0\n",
    "\n",
    "    print(\"******** STARTING TO LEARN ********\")\n",
    "\n",
    "    for e in range(epochs):\n",
    "        batch_number = 0\n",
    "        batches = create_batches(list(range(len(images))), batch_size)\n",
    "\n",
    "        for i in batches:\n",
    "            batch_number += 1\n",
    "            one_img_batch = [images[j] for j in i]\n",
    "            one_lab_batch = [labels[j] for j in i]\n",
    "            print(f\"Current Epoch: {e+1} | Current batch: {batch_number}\\n_____________________________________\")\n",
    "            network = update(network, one_img_batch, one_lab_batch, sigma = 0.1)\n",
    "    print(\"******** FINISHED LEARNING ********\")\n",
    "    return network"
   ]
  },
  {
   "cell_type": "markdown",
   "metadata": {},
   "source": [
    "Initializes from uniform (no information - maximum entropy) network. <br/> \n",
    "trains in *epochs* (over all data) in *batches* (groups of data). <br/>\n",
    "*update*: uses previously coded functions (predict for instance). <br/>\n",
    "*sigma*: controls step-size (how far in the direction which minimizes error - recall from Kenneths talk that when we get the infamous \"convergence error\" it is likely because we are overstepping. Trade-off between learning rate (extracting enough information) and stability (not stepping too far). "
   ]
  },
  {
   "cell_type": "markdown",
   "metadata": {},
   "source": [
    "## RUNNING THE NETWORK\n",
    "\n",
    "Here we are only training on a subset of the training data (10k images instead of 60k). <br/>\n",
    "This is because it takes time to run (but this will make it less accurate of course). <br/>\n",
    "It should take a couple of minutes to run. <br/>\n",
    "\n",
    "**batch_size:** the number of pictures in each training batch. <br/>\n",
    "**epochs:** the number of times we run through ALL of the data."
   ]
  },
  {
   "cell_type": "code",
   "execution_count": null,
   "metadata": {},
   "outputs": [],
   "source": [
    "images = read_image(\"train-images.idx3-ubyte\")\n",
    "labels = read_labels(\"train-labels.idx1-ubyte\")\n",
    "batch_size = 100\n",
    "epochs = 5"
   ]
  },
  {
   "cell_type": "code",
   "execution_count": null,
   "metadata": {
    "scrolled": false
   },
   "outputs": [],
   "source": [
    "network = fast_learn(images[:10000], labels[:10000], epochs, batch_size);"
   ]
  },
  {
   "cell_type": "markdown",
   "metadata": {},
   "source": [
    "## Evaluating the Network"
   ]
  },
  {
   "cell_type": "code",
   "execution_count": null,
   "metadata": {},
   "outputs": [],
   "source": [
    "test_images = read_image(\"t10k-images.idx3-ubyte\")\n",
    "test_labels = read_labels(\"t10k-labels.idx1-ubyte\")"
   ]
  },
  {
   "cell_type": "code",
   "execution_count": null,
   "metadata": {},
   "outputs": [],
   "source": [
    "evaluate(network, test_images, test_labels) #evaluate did not work?"
   ]
  },
  {
   "cell_type": "markdown",
   "metadata": {},
   "source": [
    "## Plotting stuff"
   ]
  },
  {
   "cell_type": "markdown",
   "metadata": {},
   "source": [
    "Why plot? <br/>\n",
    "1. Plotting is fun. <br/>\n",
    "2. Plots are pretty. <br/>\n",
    "3. Plots can inform us about how the network learns & where it makes mistakes. "
   ]
  },
  {
   "cell_type": "code",
   "execution_count": null,
   "metadata": {},
   "outputs": [],
   "source": [
    "from plots_helper import * "
   ]
  },
  {
   "cell_type": "markdown",
   "metadata": {},
   "source": [
    "Question: What has the network actually learned? <br/>\n",
    "Is it somewhat interpretable? <br/> \n",
    "Can you tell which weigths correspond to specific digits? <br/>\n",
    "Lets plot the weights (the function weights_plot can be found in plots_helper.py)"
   ]
  },
  {
   "cell_type": "code",
   "execution_count": null,
   "metadata": {
    "scrolled": false
   },
   "outputs": [],
   "source": [
    "def weights_plot(A, plt_col = 5, image_dim = 28): #weights count = integer.\n",
    "\n",
    "    '''\n",
    "    Description:\n",
    "    Returns multiple sub-plots of heatmaps of the weights\n",
    "    of a neural network. It uses the subplots and the imshow function\n",
    "    from matplotlib.pyplot. Axis ticks and values are removed for\n",
    "    aesthetic purposes. In addition will display a message\n",
    "    whenever predictions differ from the correct labels.\n",
    "\n",
    "    ________\n",
    "\n",
    "    Arguments:\n",
    "    A = A matrix (list of lists) of weights from a neural network.\n",
    "\n",
    "    plt_col = Integer specifying how many columns the subplots that\n",
    "    the function returns are arranged in.\n",
    "\n",
    "    image_dim = Dimension of the picture to plot. In our case,\n",
    "    this will always be 28x28, but should generalize to other\n",
    "    formats. \n",
    "\n",
    "    ________\n",
    "\n",
    "    Examples:\n",
    "    for examples, see test.py.\n",
    "\n",
    "    '''\n",
    "\n",
    "    cols_A = M.gen_col(A)\n",
    "    rows, columns = M.dim(A)\n",
    "\n",
    "    # creating K which holds lists of 28x28.\n",
    "    K = [[] for i in range(columns)]\n",
    "    for i in range(columns):\n",
    "        C = [[] for i in range(image_dim)]\n",
    "        for j in range(image_dim):\n",
    "            for k in range(image_dim):\n",
    "                C[j].append(next(cols_A))\n",
    "        K[i].append(C)\n",
    "\n",
    "    K = [y for x in K for y in x] #flatten the list.\n",
    "    #needed for the plot:\n",
    "    plt_row = math.ceil(columns/plt_col)\n",
    "    fig, axs = plt.subplots(plt_row, plt_col)\n",
    "\n",
    "    #plotting\n",
    "    for i in range(plt_row):\n",
    "        cols_left = min(columns, plt_col)\n",
    "        if columns < plt_col:\n",
    "            for k in range(columns, plt_col):\n",
    "                fig.delaxes(axs[i, k])\n",
    "        for j in range(cols_left):\n",
    "            axs[i,j].imshow (K[(i*plt_col)+j], cmap = \"gist_heat\")\n",
    "            axs[i,j].axes.xaxis.set_visible(False)\n",
    "            axs[i,j].axes.yaxis.set_visible(False)\n",
    "            axs[i,j].set_title((i*plt_col)+j)\n",
    "        columns -= plt_col\n",
    "    fig.tight_layout()\n",
    "    plt.show()\n",
    "    return fig\n"
   ]
  },
  {
   "cell_type": "code",
   "execution_count": null,
   "metadata": {},
   "outputs": [],
   "source": [
    "weights_plot(network[0])"
   ]
  },
  {
   "cell_type": "markdown",
   "metadata": {},
   "source": [
    "Question: Where do we make mistakes? <br/>\n",
    "Do the mistake seem reasonable (i.e. are those digits actually poorly written?) <br/>\n",
    "Try different slices of data. "
   ]
  },
  {
   "cell_type": "code",
   "execution_count": null,
   "metadata": {},
   "outputs": [],
   "source": [
    "plot_images_new(images[:10], labels[:10], predictions = [argmax(predict(network, image_to_vector(i))) for i in images[:10]]);"
   ]
  }
 ],
 "metadata": {
  "kernelspec": {
   "display_name": "Python 3",
   "language": "python",
   "name": "python3"
  },
  "language_info": {
   "codemirror_mode": {
    "name": "ipython",
    "version": 3
   },
   "file_extension": ".py",
   "mimetype": "text/x-python",
   "name": "python",
   "nbconvert_exporter": "python",
   "pygments_lexer": "ipython3",
   "version": "3.8.3"
  }
 },
 "nbformat": 4,
 "nbformat_minor": 2
}
