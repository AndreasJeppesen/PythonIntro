{
 "metadata": {
  "language_info": {
   "codemirror_mode": {
    "name": "ipython",
    "version": 3
   },
   "file_extension": ".py",
   "mimetype": "text/x-python",
   "name": "python",
   "nbconvert_exporter": "python",
   "pygments_lexer": "ipython3",
   "version": "3.8.5-final"
  },
  "orig_nbformat": 2,
  "kernelspec": {
   "name": "Python 3.8.5 64-bit ('acn': conda)",
   "display_name": "Python 3.8.5 64-bit ('acn': conda)",
   "metadata": {
    "interpreter": {
     "hash": "47c6b233d2562060f90819eb2233a86334a9def865dac21e2dd905b245fde8d6"
    }
   }
  }
 },
 "nbformat": 4,
 "nbformat_minor": 2,
 "cells": [
  {
   "source": [
    "# Intro to Neural Networks in Python"
   ],
   "cell_type": "markdown",
   "metadata": {}
  },
  {
   "cell_type": "code",
   "execution_count": 1,
   "metadata": {},
   "outputs": [],
   "source": [
    "from read_write_helper import *"
   ]
  },
  {
   "source": [
    "These are the included helper function to make your life easier. Here we call on the help-function, which prints the documentation for the function. From read_write_helper the functions are *read_image*, *read_labels*, *linear_load*, *linear_save* and *image_to_vector*.\n",
    "\n",
    "### read_image\n",
    "\n",
    "This function reads the image data from the MNIST-database. Returns a list of the image data and prints if the magic number is 2051.\n",
    "\n",
    "### read_labels\n",
    "\n",
    "This function reads the labels from the MNIST-database. Returns a list of labels and prints a message if the magic number is 2049.\n",
    "\n",
    "### linear_load \n",
    "\n",
    "This function loads a linear network. Returns the file as a json string. \n",
    "\n",
    "### linear_save \n",
    "\n",
    "This function saves a linear network as a json string. \n",
    "\n",
    "## \"Help\" function:\n",
    "\n",
    "If you ever forget these, or any other function in Python, calling the *help* function will enable you to read the documentation for the function:\n",
    "\n"
   ],
   "cell_type": "markdown",
   "metadata": {}
  },
  {
   "cell_type": "code",
   "execution_count": 6,
   "metadata": {},
   "outputs": [
    {
     "output_type": "stream",
     "name": "stdout",
     "text": [
      "Help on function linear_save in module read_write_helper:\n\nlinear_save(filename, network)\n    Description:\n    \n    Using the json.dumps function, this function saves \n    a variable to the folder working directory. \n    In our case, it specifically saves a linear network as\n    a json-string. Using the os.path.isfile function, \n    the function checks if a file already exists in the \n    directory, it asks the user whether to overwrite the \n    file or not. \n    \n    Assumes nothing.\n    \n    Returns nothing.\n    \n    ________\n    \n    Arguments: \n    \n    filename = name of the file as a string\n    network = variable to save\n\n"
     ]
    }
   ],
   "source": [
    "help(linear_save)"
   ]
  }
 ]
}