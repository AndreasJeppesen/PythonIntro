{
 "cells": [
  {
   "cell_type": "markdown",
   "metadata": {},
   "source": [
    "# Intro to Neural Networks in Python"
   ]
  },
  {
   "cell_type": "markdown",
   "metadata": {},
   "source": [
    "Overview of the project. \n",
    "The goal is to train a neural network classifier on the MNIST image data. The MNIST data are handwritten digits (manually classified) and we want to train the neural network to automatically label these digits for us. In this project we will not be using fancy (normal) libraries like NumPy so we have to make the functions for algebra ourselves."
   ]
  },
  {
   "cell_type": "markdown",
   "metadata": {},
   "source": [
    "What we have done for you: \n",
    "\n",
    "1. Download data from MNIST. This is already done and is in (t10k-images.idx3-ubyte.gz, t10k-labels.idx1-ubyte.gz, train-images.idx3-ubyte.gx, train-labels.idx1-ubyte). As you can perhaps tell from the file names the data is already split into test and training data-sets. \n",
    "\n",
    "2. Read image data (pixel values) and labels (hand-labels of correct digit). This will not be one of your tasks. The data is in a weird format and you will be using our functions (read_image, read_labels) to get the data into python in a nice format. \n",
    "\n",
    "We can import these functions from the python file \"read_write_helper\" into this notebook like this: \n"
   ]
  },
  {
   "cell_type": "code",
   "execution_count": 2,
   "metadata": {},
   "outputs": [],
   "source": [
    "from read_write_helper import *"
   ]
  },
  {
   "cell_type": "markdown",
   "metadata": {},
   "source": [
    "These are the included helper function to make your life easier. Here we call on the help-function, which prints the documentation for the function. From read_write_helper the functions are *read_image*, *read_labels*, *linear_load*, *linear_save* and *image_to_vector*.\n",
    "\n",
    "### read_image\n",
    "\n",
    "This function reads the image data from the MNIST-database. Returns a list of the image data and prints if the magic number is 2051 (which it should be for some reason). \n",
    "\n",
    "### read_labels\n",
    "\n",
    "This function reads the labels from the MNIST-database. Returns a list of labels and prints a message if the magic number is 2049 (again, this is somehow desirable).\n",
    "\n",
    "\n",
    "\n",
    "## \"Help\" function:\n",
    "\n",
    "If you ever forget these, or any other function in Python, calling the *help* function will enable you to read the documentation for the function. These functions are written by us, so for actual libraries you will find better documentation.\n",
    "\n"
   ]
  },
  {
   "cell_type": "code",
   "execution_count": 4,
   "metadata": {},
   "outputs": [
    {
     "name": "stdout",
     "output_type": "stream",
     "text": [
      "Help on function read_image in module read_write_helper:\n",
      "\n",
      "read_image(filename)\n",
      "    Description:\n",
      "    \n",
      "    Using the struct.unpack function, this function reads \n",
      "    the image data from the MNIST-database. \n",
      "    \n",
      "    Assumes that the data is stored in the same folder\n",
      "    as this document.\n",
      "    \n",
      "    Returns a list of the image data and print message \n",
      "    if the magic number is 2051.\n",
      "    \n",
      "    ________\n",
      "    \n",
      "    Arguments: \n",
      "    \n",
      "    filename = name of the file as a string\n",
      "\n"
     ]
    }
   ],
   "source": [
    "help(read_image)"
   ]
  },
  {
   "cell_type": "markdown",
   "metadata": {},
   "source": [
    "## Creating Math Functions\n",
    "\n",
    "First we would like "
   ]
  },
  {
   "cell_type": "code",
   "execution_count": null,
   "metadata": {},
   "outputs": [],
   "source": []
  }
 ],
 "metadata": {
  "kernelspec": {
   "display_name": "Python 3",
   "language": "python",
   "name": "python3"
  },
  "language_info": {
   "codemirror_mode": {
    "name": "ipython",
    "version": 3
   },
   "file_extension": ".py",
   "mimetype": "text/x-python",
   "name": "python",
   "nbconvert_exporter": "python",
   "pygments_lexer": "ipython3",
   "version": "3.8.5"
  }
 },
 "nbformat": 4,
 "nbformat_minor": 2
}
