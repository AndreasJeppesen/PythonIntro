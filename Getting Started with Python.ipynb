{
 "cells": [
  {
   "cell_type": "markdown",
   "metadata": {},
   "source": [
    "# Getting started with Python "
   ]
  },
  {
   "cell_type": "markdown",
   "metadata": {},
   "source": [
    "Hello and welcome to this Python craziness! Let's get started!"
   ]
  },
  {
   "cell_type": "markdown",
   "metadata": {},
   "source": [
    "### Exercise 1: Download Python"
   ]
  },
  {
   "cell_type": "markdown",
   "metadata": {},
   "source": [
    "I'll be using Anaconda for this tutorial, but any Python stuff will do fine. \n",
    "\n",
    "You can find the download link here: https://www.anaconda.com/products/individual"
   ]
  },
  {
   "cell_type": "markdown",
   "metadata": {},
   "source": [
    "### Exercise 2: Sum of Two Numbers - Introduction to Functions"
   ]
  },
  {
   "cell_type": "markdown",
   "metadata": {},
   "source": [
    "Now that we have Python installed, let's make our first function. \n",
    "In Python, we initialize a function with the special word *def*. As a default, all functions return a \"None\" object. So most of the time, we will want to also state a *return* in our function. The return is our output. In other words, if we assign anything as the value of the function (data = read_csv(x)), the return of the \"read_csv\"-function on x, will be returned into data. Furthermore, in constrast to other languages, such as R, we do not use \"{}\" to indicate the scope of the function. Instead, we use indentations. \n",
    "\n",
    "Before we can look at code, we only need to know one more thing special to python; the *input*-function. The input function allows us to ask the user for an input, and waits until it has gotten such an input. However, it is important that the input function returns the input as a string, so if we want to work with numbers, we will want to make these strings into numbers. Alright, enough writing - let's get coding! \n",
    "\n",
    "Let's first see how a function looks in Python:"
   ]
  },
  {
   "cell_type": "code",
   "execution_count": 24,
   "metadata": {},
   "outputs": [
    {
     "data": {
      "text/plain": [
       "3"
      ]
     },
     "execution_count": 24,
     "metadata": {},
     "output_type": "execute_result"
    }
   ],
   "source": [
    "def my_function():\n",
    "    return 3\n",
    "\n",
    "x = my_function()\n",
    "x"
   ]
  },
  {
   "cell_type": "markdown",
   "metadata": {},
   "source": [
    "Next, let's look at how we can allow a user to input different values using the input function:"
   ]
  },
  {
   "cell_type": "code",
   "execution_count": 25,
   "metadata": {},
   "outputs": [
    {
     "name": "stdout",
     "output_type": "stream",
     "text": [
      "Try typing something! x\n"
     ]
    },
    {
     "data": {
      "text/plain": [
       "'x'"
      ]
     },
     "execution_count": 25,
     "metadata": {},
     "output_type": "execute_result"
    }
   ],
   "source": [
    "x = input(\"Try typing something! \")\n",
    "x"
   ]
  },
  {
   "cell_type": "markdown",
   "metadata": {},
   "source": [
    "Once you've understood this, let's us put that knowledge to use! Let's make a function that takes no input, but sums two numbers that user is allowed to assign using the input function. The function should return the sum of the two numbers. Remember that input returns strings, so you will have to reassign these to an integer or a float to sum the numbers. \n",
    "\n",
    "Once you are done, you can check the answer to the exercise in the bottom of the notebook. "
   ]
  },
  {
   "cell_type": "code",
   "execution_count": null,
   "metadata": {},
   "outputs": [],
   "source": [
    "def my_sum():\n",
    "    ## YOUR CODE\n",
    "    return the_sum"
   ]
  },
  {
   "cell_type": "markdown",
   "metadata": {},
   "source": [
    "### Exercise 3: More numbers!"
   ]
  },
  {
   "cell_type": "markdown",
   "metadata": {},
   "source": [
    "What if we wanted to sum over more than two numbers? Easy! We'll just include a *while-loop*. A while-loop is the amazing combination of a for-loop and an if-statement. The while loop will continue to run while the boolean value that it is assigned evaluates to \"True\". Therefore, if you are not careful, while loops can run forever! Let's see it in action!"
   ]
  },
  {
   "cell_type": "code",
   "execution_count": 26,
   "metadata": {},
   "outputs": [
    {
     "name": "stdout",
     "output_type": "stream",
     "text": [
      "1\n",
      "2\n",
      "3\n",
      "4\n"
     ]
    }
   ],
   "source": [
    "k = 1\n",
    "while k < 5:\n",
    "    print(k)\n",
    "    k = k + 1"
   ]
  },
  {
   "cell_type": "markdown",
   "metadata": {},
   "source": [
    "But we can do better than that in Python. Python allows for very quick reassignment of a variable. Instead of writing \"k = k + 1\", we can instead just write \"k += 1\":"
   ]
  },
  {
   "cell_type": "code",
   "execution_count": 28,
   "metadata": {},
   "outputs": [
    {
     "name": "stdout",
     "output_type": "stream",
     "text": [
      "1\n",
      "2\n",
      "3\n",
      "4\n"
     ]
    }
   ],
   "source": [
    "k = 1\n",
    "while k < 5:\n",
    "    print(k)\n",
    "    k += 1"
   ]
  },
  {
   "cell_type": "markdown",
   "metadata": {},
   "source": [
    "Amazing, right? No more writing things twice! Those days are over. Now on to you doing something. Let's make a function that takes no input and asks how many numbers the user wants to sum. The function should return the sum of all the values that the user has given. \n",
    "\n",
    "Once you are done, check the answer in the bottom of the notebook."
   ]
  },
  {
   "cell_type": "code",
   "execution_count": 29,
   "metadata": {},
   "outputs": [
    {
     "name": "stdout",
     "output_type": "stream",
     "text": [
      "How many numbers do you want to sum today?: 2\n",
      "Type the first number: 3\n",
      "Type the next number: 4\n"
     ]
    },
    {
     "data": {
      "text/plain": [
       "7.0"
      ]
     },
     "execution_count": 29,
     "metadata": {},
     "output_type": "execute_result"
    }
   ],
   "source": [
    "def sum_of_many():\n",
    "    # YOUR CODE\n",
    "    return(the_sum)\n",
    "\n",
    "sum_of_many() #running the function"
   ]
  },
  {
   "cell_type": "markdown",
   "metadata": {},
   "source": [
    "### Exercise 4: Making a Loan calculator"
   ]
  },
  {
   "cell_type": "markdown",
   "metadata": {},
   "source": [
    "Let's us take some of these basic principles and put them together to make our first major function: a loan calculator.\n",
    "\n",
    "We want to be able to be able to calculate how long it would take to pay off a loan shark given an initial loan, an interest rate and a monthly payment.\n",
    "\n",
    "Write a program to compute how many months it takes to pay down a loan, that has a fixed monthly interest rate, and the borrower makes a fixed monthly payment. The program should ask the user for three values: The size of the initial loan, the monthly interest rate in %, and the size of the monthly payment of the borrower. The program should output for each month the size of the remaining loan."
   ]
  },
  {
   "cell_type": "code",
   "execution_count": 6,
   "metadata": {},
   "outputs": [
    {
     "name": "stdout",
     "output_type": "stream",
     "text": [
      "Loan size: 10000\n",
      "Interest rate in percent: 2\n",
      "Monthly payment: 2000\n",
      "Month:  1   Difference: 8200.00\n",
      "Month:  2   Difference: 6364.00\n",
      "Month:  3   Difference: 4491.28\n",
      "Month:  4   Difference: 2581.11\n",
      "Month:  5   Difference: 632.73\n",
      "Month:  6   Difference: 0\n",
      "The loan has been paid! There is a surplus of 1354.62\n",
      "DONE! You are free of debt!\n"
     ]
    }
   ],
   "source": [
    "def loan_calculator():\n",
    "    # YOUR CODE\n",
    "\n",
    "loan_calculator()"
   ]
  },
  {
   "cell_type": "markdown",
   "metadata": {},
   "source": [
    "### Exercise 5: List comprehensions"
   ]
  },
  {
   "cell_type": "markdown",
   "metadata": {},
   "source": [
    "Alright. Now we've messed around a bit with numbers. Let's see why Python is an amazing programming language. One of the reasons why Python is amazing is the *list-comprehensions* operation. List comprehensions are basically loops in one line. Amazing, right? Let's just see a quick example:"
   ]
  },
  {
   "cell_type": "code",
   "execution_count": 7,
   "metadata": {},
   "outputs": [
    {
     "data": {
      "text/plain": [
       "[0, 1, 2, 3, 4, 5, 6, 7, 8, 9]"
      ]
     },
     "execution_count": 7,
     "metadata": {},
     "output_type": "execute_result"
    }
   ],
   "source": [
    "[x for x in range(10)]"
   ]
  },
  {
   "cell_type": "markdown",
   "metadata": {},
   "source": [
    "Just to give you an idea of what is happening, let's do the same in a classic for-loop:"
   ]
  },
  {
   "cell_type": "code",
   "execution_count": 8,
   "metadata": {},
   "outputs": [
    {
     "data": {
      "text/plain": [
       "[0, 1, 2, 3, 4, 5, 6, 7, 8, 9]"
      ]
     },
     "execution_count": 8,
     "metadata": {},
     "output_type": "execute_result"
    }
   ],
   "source": [
    "empty_list = []\n",
    "for x in range(10):\n",
    "    empty_list.append(x) #add x to the end of the list\n",
    "empty_list"
   ]
  },
  {
   "cell_type": "markdown",
   "metadata": {},
   "source": [
    "This much more messy way of going about things does the exact same thing, only slower and worse. First of all, we have to keep appending stuff into the list. We also have to initialize the list, in order for the computer to understand where to put all these numbers. With list comprehensions, we can do that in one fell swoop!\n",
    "\n",
    "Let's up the complexity! Before running the next chunk, read it and try to guess what the output will be."
   ]
  },
  {
   "cell_type": "code",
   "execution_count": 10,
   "metadata": {},
   "outputs": [
    {
     "data": {
      "text/plain": [
       "[0, 0, 1, 1, 2, 2, 3, 3, 4, 4, 5, 5, 6, 6, 7, 7, 8, 8, 9, 9]"
      ]
     },
     "execution_count": 10,
     "metadata": {},
     "output_type": "execute_result"
    }
   ],
   "source": [
    "[x for x in range(10) for y in range(2)]"
   ]
  },
  {
   "cell_type": "markdown",
   "metadata": {},
   "source": [
    "In order to make sense of this, let us once again figure out what this looks like in a for loop:"
   ]
  },
  {
   "cell_type": "code",
   "execution_count": 12,
   "metadata": {},
   "outputs": [
    {
     "data": {
      "text/plain": [
       "[0, 0, 1, 1, 2, 2, 3, 3, 4, 4, 5, 5, 6, 6, 7, 7, 8, 8, 9, 9]"
      ]
     },
     "execution_count": 12,
     "metadata": {},
     "output_type": "execute_result"
    }
   ],
   "source": [
    "empty_list = []\n",
    "for x in range(10):\n",
    "    for y in range(2):\n",
    "            empty_list.append(x)\n",
    "        \n",
    "empty_list"
   ]
  },
  {
   "cell_type": "markdown",
   "metadata": {},
   "source": [
    "List comprehensions can allow for much more powerful operations, as they can be combined with other useful operations. For instance, we can also make an \"if-statement\" in the list comprehension:"
   ]
  },
  {
   "cell_type": "code",
   "execution_count": 13,
   "metadata": {},
   "outputs": [
    {
     "data": {
      "text/plain": [
       "[0, 0, 1, 1, 3, 3, 4, 4, 5, 5, 6, 6, 7, 7, 8, 8, 9, 9]"
      ]
     },
     "execution_count": 13,
     "metadata": {},
     "output_type": "execute_result"
    }
   ],
   "source": [
    "[x for x in range(10) for y in range(2) if x != 2]"
   ]
  },
  {
   "cell_type": "markdown",
   "metadata": {},
   "source": [
    "Just for completeness, let's look at the for loop:"
   ]
  },
  {
   "cell_type": "code",
   "execution_count": 14,
   "metadata": {},
   "outputs": [
    {
     "data": {
      "text/plain": [
       "[0, 0, 1, 1, 3, 3, 4, 4, 5, 5, 6, 6, 7, 7, 8, 8, 9, 9]"
      ]
     },
     "execution_count": 14,
     "metadata": {},
     "output_type": "execute_result"
    }
   ],
   "source": [
    "empty_list = []\n",
    "for x in range(10):\n",
    "    for y in range(2):\n",
    "        if x != 2:\n",
    "            empty_list.append(x)\n",
    "        \n",
    "empty_list"
   ]
  },
  {
   "cell_type": "markdown",
   "metadata": {},
   "source": [
    "Powerful stuff! Note that any list comprehension can be done in a for-loop, but do take the time to mess around with list-comprehensions. They are wicked!\n",
    "\n",
    "Let's try to use them and also learn some math as we go along! \n",
    "A polynomial poly(x) = ck·xk + ck-1·xk-1 + ··· + c1·x1 + c0·x0 can be represented by a tuple (c0, c1, ..., ck), e.g. the polynomial 3x^3 - 2x^2 + 0x + 5 can be represented by a tuple (5, 0, -2, 3). Let's use a list comprehension and a function called *enumerate*, to calculate the sum of the polynomial evaluated at a point. E.g. for x = 7 and coefficients (5, 0, -2, 3) we should get the output 936.\n",
    "\n",
    "Enumerate is a great feature in Python. It basically creates a tuple, which holds both the index and the actual value of an object. Here is a quick example."
   ]
  },
  {
   "cell_type": "code",
   "execution_count": 18,
   "metadata": {
    "scrolled": true
   },
   "outputs": [
    {
     "name": "stdout",
     "output_type": "stream",
     "text": [
      "0\n",
      "hey\n",
      "1\n",
      "you\n",
      "2\n",
      "are\n",
      "3\n",
      "learning!\n"
     ]
    }
   ],
   "source": [
    "for index, value in enumerate([\"hey\", \"you\", \"are\", \"learning!\"]):\n",
    "    print(index)\n",
    "    print(value)"
   ]
  },
  {
   "cell_type": "markdown",
   "metadata": {},
   "source": [
    "This allows us to save both the index and the values of a list or other objects in a fast and efficient way. Python is great! Let's use it for our polynomial calculator. We'll use every trick we've learned so far here. But first, we want to be able to put something to the power of something else:"
   ]
  },
  {
   "cell_type": "code",
   "execution_count": 31,
   "metadata": {},
   "outputs": [
    {
     "data": {
      "text/plain": [
       "8"
      ]
     },
     "execution_count": 31,
     "metadata": {},
     "output_type": "execute_result"
    }
   ],
   "source": [
    "2**3"
   ]
  },
  {
   "cell_type": "markdown",
   "metadata": {},
   "source": [
    "In Python, this is done using the double star. And with that, we are ready to make a crazy polynomial calculator! \n",
    "\n",
    "We can represent a polynomial \"2 + 1x^1 + 2x^2 + 3x^3\" as the tuple (2, 1, 2, 3), the coefficients of the polynomial. Note that tuples are closely related to a list in Python. Using this representation, we can use our previous knowledge to do some calculations!\n",
    "\n",
    "So! Write a function that takes no input and asks the user for 4 numbers (x1, x2, x3, x4). After that, the user should give an x-value that the polynomial should be evaluated on. Finally, the function should return the functions value at x.  E.g. for x = 7 and coefficients (5, 0, -2, 3) your code should compute the value 936. Use list comprehensions and enumerate in your solution."
   ]
  },
  {
   "cell_type": "code",
   "execution_count": 23,
   "metadata": {},
   "outputs": [
    {
     "name": "stdout",
     "output_type": "stream",
     "text": [
      "x1: 2\n",
      "x2: 3\n",
      "x3: 4\n",
      "x4: 5\n",
      "What is the x value?: 6\n"
     ]
    },
    {
     "data": {
      "text/plain": [
       "870"
      ]
     },
     "execution_count": 23,
     "metadata": {},
     "output_type": "execute_result"
    }
   ],
   "source": [
    "def polynomial():\n",
    "    # YOUR CODE HERE\n",
    "\n",
    "    return(summing)\n",
    "\n",
    "polynomial()\n"
   ]
  },
  {
   "cell_type": "markdown",
   "metadata": {},
   "source": [
    "### Exercise 6: Dictionaries"
   ]
  },
  {
   "cell_type": "markdown",
   "metadata": {},
   "source": [
    "Dictionaries are another amazing thing about Python. Dictionaries are basically a way of storing a relationship between two variables. We could think of dictionaries as actual dictionaries. Given some *key*, they return some *value*. Let's see how this works. Just like lists are denoted with \\[\\] in Python, dictionaries are denoted with {}:"
   ]
  },
  {
   "cell_type": "code",
   "execution_count": 32,
   "metadata": {},
   "outputs": [],
   "source": [
    "my_dict = {\"AGF\":2, \"Horsens\":1, \"Barcelona\":0}\n"
   ]
  },
  {
   "cell_type": "markdown",
   "metadata": {},
   "source": [
    "Now that we've made our dictionary, we can look values up in the dictionary. This can be done by either indexing in the dictionary or using the *get*-method on the dictionary. Let's have a look:"
   ]
  },
  {
   "cell_type": "code",
   "execution_count": 34,
   "metadata": {},
   "outputs": [
    {
     "data": {
      "text/plain": [
       "2"
      ]
     },
     "execution_count": 34,
     "metadata": {},
     "output_type": "execute_result"
    }
   ],
   "source": [
    "my_dict[\"AGF\"]"
   ]
  },
  {
   "cell_type": "code",
   "execution_count": 35,
   "metadata": {},
   "outputs": [
    {
     "data": {
      "text/plain": [
       "2"
      ]
     },
     "execution_count": 35,
     "metadata": {},
     "output_type": "execute_result"
    }
   ],
   "source": [
    "my_dict.get(\"AGF\")"
   ]
  },
  {
   "cell_type": "markdown",
   "metadata": {},
   "source": [
    "Note that just like in a normal dictionary, no key can be in our dictionary twice. If that was the case, we couldn't look up the relevant values. \n",
    "\n",
    "Moreover, we can make the deluxe operation of a dictionary comprehension in Python. Now we're getting somewhere! It's exactly the same as a list comprehension but with dictionaries:"
   ]
  },
  {
   "cell_type": "code",
   "execution_count": 37,
   "metadata": {},
   "outputs": [
    {
     "data": {
      "text/plain": [
       "{'A': 3, 'B': 3, 'C': 3, 'E': 3}"
      ]
     },
     "execution_count": 37,
     "metadata": {},
     "output_type": "execute_result"
    }
   ],
   "source": [
    "listing = ['A', 'B', 'A', 'A', 'C', 'E', 'C']\n",
    "\n",
    "{x:3 for x in listing}"
   ]
  },
  {
   "cell_type": "markdown",
   "metadata": {},
   "source": [
    "Enough of me showing you crazy things. Let's get you working again! \n",
    "\n",
    "\n",
    "Write a function called \"histogram\" that given a list of elements, returns a dictionary of the counts of each item in the list.\n",
    "E.g. histogram(\\['A', 'B', 'A', 'A', 'C', 'E', 'C'\\]) should return {'A':3, 'B':1, 'C':2, 'E':1}.\n",
    "\n",
    "Hint. Use a dictionary and the dictionary method get."
   ]
  },
  {
   "cell_type": "code",
   "execution_count": 36,
   "metadata": {},
   "outputs": [
    {
     "data": {
      "text/plain": [
       "{'A': 3, 'B': 1, 'C': 2, 'E': 1}"
      ]
     },
     "execution_count": 36,
     "metadata": {},
     "output_type": "execute_result"
    }
   ],
   "source": [
    "listing = ['A', 'B', 'A', 'A', 'C', 'E', 'C']\n",
    "\n",
    "def histogram(listing):\n",
    "    # YOUR CODE HERE\n",
    "    return hist"
   ]
  },
  {
   "cell_type": "markdown",
   "metadata": {},
   "source": [
    "### Exercise 7: More dictionaries"
   ]
  },
  {
   "cell_type": "markdown",
   "metadata": {},
   "source": [
    "We can do more funky stuff with dictionaries. If we are only interested in the keys of the dictionary, we can simply ask for a list of the keys using the inbuilt \".keys()\"-method for dictionaries:"
   ]
  },
  {
   "cell_type": "code",
   "execution_count": 38,
   "metadata": {},
   "outputs": [
    {
     "data": {
      "text/plain": [
       "['AGF', 'Horsens', 'Barcelona']"
      ]
     },
     "execution_count": 38,
     "metadata": {},
     "output_type": "execute_result"
    }
   ],
   "source": [
    "my_dict = {\"AGF\":2, \"Horsens\":1, \"Barcelona\":0}\n",
    "list(my_dict.keys())"
   ]
  },
  {
   "cell_type": "markdown",
   "metadata": {},
   "source": [
    "The same can be done for only the values, using the \".values()\"-method:"
   ]
  },
  {
   "cell_type": "code",
   "execution_count": 39,
   "metadata": {},
   "outputs": [
    {
     "data": {
      "text/plain": [
       "[2, 1, 0]"
      ]
     },
     "execution_count": 39,
     "metadata": {},
     "output_type": "execute_result"
    }
   ],
   "source": [
    "list(my_dict.values())"
   ]
  },
  {
   "cell_type": "markdown",
   "metadata": {},
   "source": [
    "If we want to sort an object, we can use the inbuilt \"sorted()\"-function in Python:"
   ]
  },
  {
   "cell_type": "code",
   "execution_count": 41,
   "metadata": {},
   "outputs": [
    {
     "data": {
      "text/plain": [
       "['AGF', 'Barcelona', 'Horsens']"
      ]
     },
     "execution_count": 41,
     "metadata": {},
     "output_type": "execute_result"
    }
   ],
   "source": [
    "sorted(my_dict)"
   ]
  },
  {
   "cell_type": "markdown",
   "metadata": {},
   "source": [
    "As its default, it sorts the dictionaries by their keys alphabetically. But we can also use the values instead to sort the dictionary:"
   ]
  },
  {
   "cell_type": "code",
   "execution_count": 42,
   "metadata": {},
   "outputs": [
    {
     "data": {
      "text/plain": [
       "['Barcelona', 'Horsens', 'AGF']"
      ]
     },
     "execution_count": 42,
     "metadata": {},
     "output_type": "execute_result"
    }
   ],
   "source": [
    "sorted(my_dict, key = my_dict.get)"
   ]
  },
  {
   "cell_type": "markdown",
   "metadata": {},
   "source": [
    "Does that seem right? Barcelona was the one key with the lowest score, Horsens the second lowest and AGF the highest (obviously). So what is happening? The default is ascending, so we'll need to tell Python that we want the exact opposite of what it gave us:"
   ]
  },
  {
   "cell_type": "code",
   "execution_count": 43,
   "metadata": {},
   "outputs": [
    {
     "data": {
      "text/plain": [
       "['AGF', 'Horsens', 'Barcelona']"
      ]
     },
     "execution_count": 43,
     "metadata": {},
     "output_type": "execute_result"
    }
   ],
   "source": [
    "sorted(my_dict, key = my_dict.get, reverse = True)"
   ]
  },
  {
   "cell_type": "markdown",
   "metadata": {},
   "source": [
    "And there it is - smooth sailing I would say! Now it is time for you to do some work. \n",
    "\n",
    "Your task is to write a function uniques(D), that takes a dictionary D, and returns a list or all the keys in the dictionary, where the associated value does not occur as the value for another key. The returned list should be in sorted order.\n",
    "\n",
    "Example:\n",
    "\n",
    "Input:  {'B': 3, 'D': 1, 'A': 2, 'F': 7, 'E': 3, 'G': 4}\n",
    "\n",
    "Output: \\['A', 'D', 'F', 'G'\\]"
   ]
  },
  {
   "cell_type": "code",
   "execution_count": 1,
   "metadata": {},
   "outputs": [
    {
     "data": {
      "text/plain": [
       "['A', 'D', 'F', 'G']"
      ]
     },
     "execution_count": 1,
     "metadata": {},
     "output_type": "execute_result"
    }
   ],
   "source": [
    "D = {'B': 3, 'D': 1, 'A': 2, 'F': 7, 'E': 3, 'G': 4}\n",
    "\n",
    "def uniques(D):\n",
    "    # YOUR CODE HERE\n",
    "\n",
    "uniques(D)"
   ]
  },
  {
   "cell_type": "markdown",
   "metadata": {},
   "source": [
    "# Answers"
   ]
  },
  {
   "cell_type": "markdown",
   "metadata": {},
   "source": [
    "### Exercise 2:"
   ]
  },
  {
   "cell_type": "code",
   "execution_count": null,
   "metadata": {},
   "outputs": [],
   "source": [
    "def sum_of_two(): #note the def - now we are starting a function! Note the indentation in next line\n",
    "    x = float(input(\"Type the first number: \")) #transforming to float from string\n",
    "    y = float(input(\"Type the second number: \")) # -- // --\n",
    "    return(x + y) #returning instead of printing, so as to be able to assign it afterwards\n",
    "\n",
    "sum_of_two() #running the function"
   ]
  },
  {
   "cell_type": "markdown",
   "metadata": {},
   "source": [
    "### Exercise 3:"
   ]
  },
  {
   "cell_type": "code",
   "execution_count": null,
   "metadata": {},
   "outputs": [],
   "source": [
    "def sum_of_many():\n",
    "    k = int(input(\"How many numbers do you want to sum today?: \")) #how many numbers that the while loop should run over\n",
    "    counter = 1 #counting how many numbers are added\n",
    "    x = float(input(\"Type the first number: \")) #transforming to float to generalize across all numbers\n",
    "    while counter < k: #if the counter is below the amount of numbers we want to add, keep adding!\n",
    "        y = float(input(\"Type the next number: \")) # -- // --\n",
    "        z = x + y #the calculation\n",
    "        x = z \n",
    "        counter = counter + 1\n",
    "    return(z) #returning instead of printing, so as to be able to assign it afterwards\n",
    "\n",
    "sum_of_many() #running the function"
   ]
  },
  {
   "cell_type": "markdown",
   "metadata": {},
   "source": [
    "### Exercise 4:"
   ]
  },
  {
   "cell_type": "markdown",
   "metadata": {},
   "source": [
    "NB: Here we include some extra nice features. For instance, we initially calculate whether the loan can actually be payed off with the monthly payment. \n",
    "\n",
    "In this case, we also include a helper-function called \"good_input\". All \"good_input\" does, is that it ensures that the input given by the user is a number, and not a string. This is done using the *try-operator* in Python. Python tries whatever is in the indentation, and if that doesn't work, it goes down to the *exception*, the \"except ValueError\" in the code. Note the \"while True\" initial line in the function. This goes on forever until the user listens to the instructions, and inputs a number. If this is not crystal clear, don't worry. Try to insert a loan below and see what happens!"
   ]
  },
  {
   "cell_type": "code",
   "execution_count": null,
   "metadata": {},
   "outputs": [],
   "source": [
    "def good_input(message): #function to ensure that all inputs are floats\n",
    "    while True :\n",
    "        try: #try the following block - except if you get an error, then try again because of while statement\n",
    "            prompt = float(input(message)) #takes the message as an input\n",
    "            break\n",
    "        except ValueError: #if the program gets an error, we try everything again, and ask the user to type in a number\n",
    "            print(\"Please type in a number.\")\n",
    "    return(prompt) #returns the value of the prompt, so as to assign it afterwards\n",
    "\n",
    "def loan_calculator():\n",
    "\n",
    "    loan = good_input(\"Loan size: \") #the initial loan\n",
    "    interest_rate = good_input(\"Interest rate in percent: \") #the interest rate\n",
    "    monthly_payment = good_input(\"Monthly payment: \") #the monthly payment\n",
    "    N_months = 1 #counter of months\n",
    "    difference = loan #initial difference\n",
    "\n",
    "    while difference >= 0: #if the difference is over 0, there is still payment missing. At the first iteration, this difference is the initial loan.\n",
    "        total_loan = difference * (1 + (interest_rate / 100)) #First, the total loan is being calculated with interests added before the payment.\n",
    "        difference = total_loan - monthly_payment #the difference between the two that is to be printed for each month.\n",
    "        if difference >= loan:  #ensuring that there is an end to the madness in cases where the loan will never be payed off.\n",
    "\n",
    "            print('''\n",
    "            This is going to take forever.\n",
    "            At this rate, you will never pay off your loan.\n",
    "            Actually, your debt will increase forever. What were you thinking? This smells of quick loans.''') #message in case of possible quick loan\n",
    "\n",
    "            try_again = input(\"Would you like to calculate try again? (Yes/No)\").upper() #variable used to figure out if you are running everything again\n",
    "\n",
    "            if try_again == \"YES\":\n",
    "                loan_calculator() #if answer is yes, run the function again\n",
    "            break #if not, then break out of the function\n",
    "\n",
    "        if difference <= 0: #if the difference is equal to or below 0, the loan has been paid.\n",
    "            print(f\"Month:  {N_months}\", f\"Difference: 0\", sep = \"   \") #instead of printing a negative number, the function prints 0.\n",
    "            print(\"The loan has been paid! There is a surplus of\", f\"{'%.2f' % abs(difference)}\") #using abs in order to have it in positive numbers. Only using 2 decimals.\n",
    "            print(\"DONE! You are free of debt!\")\n",
    "            break\n",
    "\n",
    "        print(f\"Month:  {N_months}   Difference: {difference:.2f}\") #formatted string to include months and difference. Difference formatted as to only take 2 decimals.\n",
    "        N_months = N_months + 1 #counter goes up for each iteration\n",
    "\n",
    "loan_calculator()"
   ]
  },
  {
   "cell_type": "markdown",
   "metadata": {},
   "source": [
    "### Exercise 5:"
   ]
  },
  {
   "cell_type": "code",
   "execution_count": null,
   "metadata": {},
   "outputs": [],
   "source": [
    "def polynomial():\n",
    "    x1 = int(input(\"x1: \"))\n",
    "    x2 = int(input(\"x2: \"))\n",
    "    x3 = int(input(\"x3: \"))\n",
    "    x4 = int(input(\"x4: \"))\n",
    "\n",
    "    x_value = int(input(\"What is the x value?: \"))\n",
    "\n",
    "    poly = (x1, x2, x3, x4) #store the variables - just think of this as a list\n",
    "\n",
    "    final = [(x_value * (ele**count)) for count, ele in enumerate(poly)] #** is to the power of\n",
    "\n",
    "    sum = 0\n",
    "\n",
    "    for count, ele in enumerate(final):\n",
    "        sum += ele\n",
    "\n",
    "    return(sum)\n",
    "\n",
    "polynomial()"
   ]
  },
  {
   "cell_type": "markdown",
   "metadata": {},
   "source": [
    "### Exercise 6:"
   ]
  },
  {
   "cell_type": "code",
   "execution_count": null,
   "metadata": {},
   "outputs": [],
   "source": [
    "def polynomial():\n",
    "    x1 = int(input(\"x1: \"))\n",
    "    x2 = int(input(\"x2: \"))\n",
    "    x3 = int(input(\"x3: \"))\n",
    "    x4 = int(input(\"x4: \"))\n",
    "\n",
    "    x_value = int(input(\"What is the x value?: \"))\n",
    "\n",
    "    poly = (x1, x2, x3, x4) #store the variables - just think of this as a list\n",
    "\n",
    "    final = [(x_value * (ele**count)) for count, ele in enumerate(poly)] #** is to the power of\n",
    "\n",
    "    summing = 0\n",
    "\n",
    "    for count, ele in enumerate(final):\n",
    "        summing += ele\n",
    "\n",
    "    return(summing)\n",
    "\n",
    "polynomial()"
   ]
  },
  {
   "cell_type": "markdown",
   "metadata": {},
   "source": [
    "### Exercise 7:"
   ]
  },
  {
   "cell_type": "code",
   "execution_count": null,
   "metadata": {},
   "outputs": [],
   "source": [
    "listing = ['A', 'B', 'A', 'A', 'C', 'E', 'C']\n",
    "\n",
    "def histogram(listing):\n",
    "    dict = {}\n",
    "\n",
    "    hist = {x : dict.get(x, listing.count(x)) for x in listing}\n",
    "\n",
    "    return hist\n",
    "\n",
    "histogram(listing)"
   ]
  },
  {
   "cell_type": "markdown",
   "metadata": {},
   "source": [
    "### Exercise 8:"
   ]
  },
  {
   "cell_type": "code",
   "execution_count": null,
   "metadata": {},
   "outputs": [],
   "source": [
    "D = {'B': 3, 'D': 1, 'A': 2, 'F': 7, 'E': 3, 'G': 4}\n",
    "\n",
    "def uniques(D):\n",
    "    keys = list(D.keys())\n",
    "    values = list(D.values())\n",
    "\n",
    "    for i in values:\n",
    "        if values.count(i) > 1:\n",
    "            bummer = i\n",
    "            for j in keys:\n",
    "                if D.get(j) == bummer:\n",
    "                    keys.remove(j)\n",
    "\n",
    "    return sorted(keys)\n",
    "\n",
    "\n",
    "uniques(D)"
   ]
  }
 ],
 "metadata": {
  "kernelspec": {
   "display_name": "Python 3",
   "language": "python",
   "name": "python3"
  },
  "language_info": {
   "codemirror_mode": {
    "name": "ipython",
    "version": 3
   },
   "file_extension": ".py",
   "mimetype": "text/x-python",
   "name": "python",
   "nbconvert_exporter": "python",
   "pygments_lexer": "ipython3",
   "version": "3.8.3"
  }
 },
 "nbformat": 4,
 "nbformat_minor": 4
}
